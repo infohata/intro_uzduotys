{
 "cells": [
  {
   "cell_type": "code",
   "execution_count": null,
   "metadata": {},
   "outputs": [],
   "source": [
    "## 3. Išmaišykite kortų kaladę\n",
    "# * Sukurkite sarašą skaičių nuo 1 iki 52\n",
    "# * Importuokite iš `random` modulio `shuffle`\n",
    "# * Išmaišykite sąrašo elementus atsitiktine tvarka\n",
    "# * Bonus: vietoj elementų skaičių, sugeneruokite saraše kortų kaladės reikšmes.\n",
    "\n",
    "# P.S. Google `unicode character table` &#128514; padės su kortų paveiksliukais ar kitais emoji. Pvz `\"\\u2660\"` yra ♠ lapai"
   ]
  },
  {
   "cell_type": "code",
   "execution_count": 49,
   "metadata": {},
   "outputs": [
    {
     "name": "stdout",
     "output_type": "stream",
     "text": [
      "Pradinis sarasas:  [1, 2, 3, 4, 5, 6, 7, 8, 9, 10, 11, 12, 13, 14, 15, 16, 17, 18, 19, 20, 21, 22, 23, 24, 25, 26, 27, 28, 29, 30, 31, 32, 33, 34, 35, 36, 37, 38, 39, 40, 41, 42, 43, 44, 45, 46, 47, 48, 49, 50, 51, 52]\n",
      "random sarasas:  [41, 42, 28, 6, 16, 21, 25, 35, 26, 39, 4, 7, 46, 5, 31, 22, 11, 29, 48, 50, 14, 49, 17, 2, 40, 45, 10, 15, 27, 47, 37, 23, 44, 33, 34, 51, 1, 30, 20, 13, 9, 8, 38, 12, 18, 3, 32, 24, 36, 19, 52, 43]\n",
      "kortu sarasas:  ['2 ♠', '3 ♠', '4 ♠', '5 ♠', '6 ♠', '7 ♠', '8 ♠', '9 ♠', '10 ♠', 'J ♠', 'Q ♠', 'K ♠', 'T ♠', '2 ♣', '3 ♣', '4 ♣', '5 ♣', '6 ♣', '7 ♣', '8 ♣', '9 ♣', '10 ♣', 'J ♣', 'Q ♣', 'K ♣', 'T ♣', '2 ♥', '3 ♥', '4 ♥', '5 ♥', '6 ♥', '7 ♥', '8 ♥', '9 ♥', '10 ♥', 'J ♥', 'Q ♥', 'K ♥', 'T ♥', '2 ♦', '3 ♦', '4 ♦', '5 ♦', '6 ♦', '7 ♦', '8 ♦', '9 ♦', '10 ♦', 'J ♦', 'Q ♦', 'K ♦', 'T ♦']\n"
     ]
    }
   ],
   "source": [
    "sarasas = list(range(1,53))\n",
    "print(\"Pradinis sarasas: \" ,sarasas)\n",
    "# number = 0\n",
    "# while number in range(52):\n",
    "#     number += 1\n",
    "# sarasas = sarasas.append(number)\n",
    "\n",
    "\n",
    "# from random import shuffle\n",
    "# shuffle(sarasas)\n",
    "# print(sarasas)\n",
    "\n",
    "import random\n",
    "random.shuffle(sarasas)\n",
    "print(\"random sarasas: \" ,sarasas)\n",
    "\n",
    "\n",
    "\n",
    "\n",
    "kortu_sarasas = []\n",
    "for zenklas in [\"\\u2660\", \"\\u2663\", \"\\u2665\", \"\\u2666\"]:\n",
    "    for korta in [*range(2, 11), \"J\", \"Q\", \"K\", \"T\"]:\n",
    "        kortu_sarasas.append(f\"{korta} {zenklas}\")\n",
    "print(\"kortu sarasas: \", kortu_sarasas)\n"
   ]
  }
 ],
 "metadata": {
  "kernelspec": {
   "display_name": "Python 3.10.6 64-bit",
   "language": "python",
   "name": "python3"
  },
  "language_info": {
   "codemirror_mode": {
    "name": "ipython",
    "version": 3
   },
   "file_extension": ".py",
   "mimetype": "text/x-python",
   "name": "python",
   "nbconvert_exporter": "python",
   "pygments_lexer": "ipython3",
   "version": "3.10.6"
  },
  "orig_nbformat": 4,
  "vscode": {
   "interpreter": {
    "hash": "05d0ac6c0e661dcf7870716260c4c1d46f6d6ed7db6e1bd675f8387b27b9c356"
   }
  }
 },
 "nbformat": 4,
 "nbformat_minor": 2
}
