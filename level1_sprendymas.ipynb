{
 "cells": [
  {
   "cell_type": "code",
   "execution_count": 124,
   "metadata": {},
   "outputs": [],
   "source": [
    "# ## 1. Tekstinio failo analizė\n",
    "\n",
    "# 1. nuskaityti tekstinį failą\n",
    "# 1. suskaičiuoti ir atspausdinti kiek yra teksto eilučių\n",
    "# 1. suskaičiuoti ir atspausdinti kiek yra žodžių kiekvienoje eilutėje\n",
    "# 1. suskaičiuoti ir atspausdinti kiek yra didžiųjų raidžių kiekvienoje eilutėje\n",
    "# 1. atspausdinti eilutę, kurioje yra daugiausia žodžių\n",
    "# 1. atspausdinti eilutę, kurioje yra daugiausia didžiųjų raidžių\n",
    "# 1. BONUS: suskaičiuoti ir atspausdinti, kiek tekste yra sakinių (sakinio techninis apibrėžimas laisvas)\n",
    "\n",
    "# Naudingos nuorodos: [Random Text Generator](https://randomtextgenerator.com/)"
   ]
  },
  {
   "cell_type": "code",
   "execution_count": 125,
   "metadata": {},
   "outputs": [
    {
     "name": "stdout",
     "output_type": "stream",
     "text": [
      "tekstas:  ['Sociable on as carriage my position weddings raillery consider. Peculiar trifling absolute and wandered vicinity property yet. The and collecting motionless difficulty son. His hearing staying ten colonel met. Sex drew six easy four dear cold deny. Moderate children at of outweigh it. Unsatiable it considered invitation he travelling insensible. Consulted admitting oh mr up as described acuteness propriety moonlight.\\n', 'Certainty determine at of arranging perceived situation or! Or wholly pretty county in oppose. Favour met itself wanted settle put garret twenty. In astonished apartments resolution so an it. Unsatiable on by contrasted to reasonable companions an. On otherwise no admitting to suspicion furniture it.\\n', 'Both rest of know draw fond post as. It agreement defective to excellent. Feebly do engage of narrow. Extensive repulsive belonging depending if promotion be zealously as. Preference inquietude ask now are dispatched led appearance. Small meant in so doubt hopes. Me smallness is existence attending he enjoyment favourite affection. Delivered is to ye belonging enjoyment preferred. Astonished and acceptance men two discretion. Law education recommend did objection how old.\\n', 'Bringing so sociable felicity supplied mr. September suspicion far him two acuteness perfectly. Covered as an examine so regular of. Ye astonished friendship remarkably no. Window admire matter praise you bed whence. Delivered ye sportsmen zealously arranging frankness estimable as. Nay any article enabled musical shyness yet sixteen yet blushes. Entire its the did figure wonder off.\\n', 'Sportsman delighted improving dashwoods gay instantly happiness six. Ham now amounted absolute not mistaken way pleasant whatever. At an these still no dried folly stood thing. Rapid it on hours hills it seven years. If polite he active county in spirit an. Mrs ham intention promotion engrossed assurance defective. Confined so graceful building opinions whatever trifling in. Insisted out differed ham man endeavor expenses. At on he total their he songs. Related compact effects is on settled do.\\n', 'He my polite be object oh change. Consider no mr am overcame yourself throwing sociable children. Hastily her totally conduct may. My solid by stuff first smile fanny. Humoured how advanced mrs elegance sir who. Home sons when them dine do want to. Estimating themselves unsatiable imprudence an he at an. Be of on situation perpetual allowance offending as principle satisfied. Improved carriage securing are desirous too.\\n', 'Able an hope of body? Any nay shyness article matters own removal nothing his forming. Gay own additions education satisfied the perpetual. If he cause manor happy. Without farther she exposed saw man led. Along on happy could cease green oh.\\n', 'Society excited by cottage private an it esteems. Fully begin on by wound an. Girl rich in do up or both. At declared in as rejoiced of together. He impression collecting delightful unpleasant by prosperous as on. End too talent she object mrs wanted remove giving.\\n', 'It real sent your at. Amounted all shy set why followed declared. Repeated of endeavor mr position kindness offering ignorant so up. Simplicity are melancholy preference considered saw companions. Disposal on outweigh do speedily in on. Him ham although thoughts entirely drawings. Acceptance unreserved old admiration projection nay yet him. Lasted am so before on esteem vanity oh.\\n', 'Indulgence announcing uncommonly met she continuing two unpleasing terminated. Now busy say down the shed eyes roof paid her. Of shameless collected suspicion existence in. Share walls stuff think but the arise guest. Course suffer to do he sussex it window advice. Yet matter enable misery end extent common men should. Her indulgence but assistance favourable cultivated everything collecting.\\n', 'Material confined likewise it humanity raillery an unpacked as he. Three chief merit no if. Now how her edward engage not horses. Oh resolution he dissimilar precaution to comparison an. Matters engaged between he of pursuit manners we moments. Merit gay end sight front. Manor equal it on again ye folly by match. In so melancholy as an sentiments simplicity connection. Far supply depart branch agreed old get our.\\n', 'Out believe has request not how comfort evident. Up delight cousins we feeling minutes. Genius has looked end piqued spring. Down has rose feel find man. Learning day desirous informed expenses material returned six the. She enabled invited exposed him another. Reasonably conviction solicitude me mr at discretion reasonable. Age out full gate bed day lose.\\n', 'Stronger unpacked felicity to of mistaken. Fanny at wrong table ye in. Be on easily cannot innate in lasted months on. Differed and and felicity steepest mrs age outweigh. Opinions learning likewise daughter now age outweigh. Raptures stanhill my greatest mistaken or exercise he on although. Discourse otherwise disposing as it of strangers forfeited deficient.\\n', 'Breakfast agreeable incommode departure it an. By ignorant at on wondered relation. Enough at tastes really so cousin am of. Extensive therefore supported by extremity of contented. Is pursuit compact demesne invited elderly be. View him she roof tell her case has sigh. Moreover is possible he admitted sociable concerns. By in cold no less been sent hard hill.\\n', 'Guest it he tears aware as. Make my no cold of need. He been past in by my hard. Warmly thrown oh he common future. Otherwise concealed favourite frankness on be at dashwoods defective at. Sympathize interested simplicity at do projecting increasing terminated. As edward settle limits at in.\\n', 'Inhabit hearing perhaps on ye do no. It maids decay as there he. Smallest on suitable disposed do although blessing he juvenile in. Society or if excited forbade. Here name off yet she long sold easy whom. Differed oh cheerful procured pleasure securing suitable in. Hold rich on an he oh fine. Chapter ability shyness article welcome be do on service.\\n', 'Throwing consider dwelling bachelor joy her proposal laughter. Raptures returned disposed one entirely her men ham. By to admire vanity county an mutual as roused. Of an thrown am warmly merely result depart supply. Required honoured trifling eat pleasure man relation. Assurance yet bed was improving furniture man. Distrusts delighted she listening mrs extensive admitting far.\\n', 'Ever man are put down his very. And marry may table him avoid. Hard sell it were into it upon. He forbade affixed parties of assured to me windows. Happiness him nor she disposing provision. Add astonished principles precaution yet friendship stimulated literature. State thing might stand one his plate. Offending or extremity therefore so difficult he on provision. Tended depart turned not are.\\n', 'Oh he decisively impression attachment friendship so if everything. Whose her enjoy chief new young. Felicity if ye required likewise so doubtful. On so attention necessary at by provision otherwise existence direction. Unpleasing up announcing unpleasant themselves oh do on. Way advantage age led listening belonging supposing.\\n', 'On no twenty spring of in esteem spirit likely estate. Continue new you declared differed learning bringing honoured. At mean mind so upon they rent am walk. Shortly am waiting inhabit smiling he chiefly of in. Lain tore time gone him his dear sure. Fat decisively estimating affronting assistance not. Resolve pursuit regular so calling me. West he plan girl been my then up no.\\n']\n"
     ]
    }
   ],
   "source": [
    " # 1. nuskaityti tekstinį failą\n",
    "\n",
    "with open(\"level_1.txt\", \"r\") as tekstinis_failas: \n",
    "    tekstas = tekstinis_failas.readlines()\n",
    "\n",
    "    print(\"tekstas: \", tekstas)"
   ]
  },
  {
   "cell_type": "code",
   "execution_count": 126,
   "metadata": {},
   "outputs": [
    {
     "name": "stdout",
     "output_type": "stream",
     "text": [
      "kiek teksto eliutes:  20\n"
     ]
    }
   ],
   "source": [
    "   # 1. suskaičiuoti ir atspausdinti kiek yra teksto eilučių  \n",
    "   \n",
    "kiek_teksto_eliutes = len(tekstas)  \n",
    "print(\"kiek teksto eliutes: \", kiek_teksto_eliutes)"
   ]
  },
  {
   "cell_type": "code",
   "execution_count": 127,
   "metadata": {},
   "outputs": [
    {
     "name": "stdout",
     "output_type": "stream",
     "text": [
      "elutes nr: 0, zodziu eiluteje: 60\n",
      "elutes nr: 1, zodziu eiluteje: 45\n",
      "elutes nr: 2, zodziu eiluteje: 70\n",
      "elutes nr: 3, zodziu eiluteje: 57\n",
      "elutes nr: 4, zodziu eiluteje: 78\n",
      "elutes nr: 5, zodziu eiluteje: 67\n",
      "elutes nr: 6, zodziu eiluteje: 41\n",
      "elutes nr: 7, zodziu eiluteje: 46\n",
      "elutes nr: 8, zodziu eiluteje: 58\n",
      "elutes nr: 9, zodziu eiluteje: 59\n",
      "elutes nr: 10, zodziu eiluteje: 69\n",
      "elutes nr: 11, zodziu eiluteje: 56\n",
      "elutes nr: 12, zodziu eiluteje: 55\n",
      "elutes nr: 13, zodziu eiluteje: 59\n",
      "elutes nr: 14, zodziu eiluteje: 49\n",
      "elutes nr: 15, zodziu eiluteje: 61\n",
      "elutes nr: 16, zodziu eiluteje: 56\n",
      "elutes nr: 17, zodziu eiluteje: 64\n",
      "elutes nr: 18, zodziu eiluteje: 47\n",
      "elutes nr: 19, zodziu eiluteje: 65\n"
     ]
    }
   ],
   "source": [
    "  \n",
    "# 1. suskaičiuoti ir atspausdinti kiek yra žodžių kiekvienoje eilutėje\n",
    "\n",
    "zodziu_sarasas = [] \n",
    "for numeris, viena_eilute in enumerate(tekstas):\n",
    "    kiek_zodziu_eiluteje = len(viena_eilute.split())  # skaiciuojam zodziu kieki\n",
    "    zodziu_sarasas.append(kiek_zodziu_eiluteje)\n",
    "\n",
    "    print(f\"elutes nr: {numeris}, zodziu eiluteje: {kiek_zodziu_eiluteje}\")\n"
   ]
  },
  {
   "cell_type": "code",
   "execution_count": 128,
   "metadata": {},
   "outputs": [
    {
     "name": "stdout",
     "output_type": "stream",
     "text": [
      "elutes nr: 0, dideliu raidziu eiluteje: 8\n",
      "elutes nr: 1, dideliu raidziu eiluteje: 6\n",
      "elutes nr: 2, dideliu raidziu eiluteje: 10\n",
      "elutes nr: 3, dideliu raidziu eiluteje: 8\n",
      "elutes nr: 4, dideliu raidziu eiluteje: 10\n",
      "elutes nr: 5, dideliu raidziu eiluteje: 9\n",
      "elutes nr: 6, dideliu raidziu eiluteje: 6\n",
      "elutes nr: 7, dideliu raidziu eiluteje: 6\n",
      "elutes nr: 8, dideliu raidziu eiluteje: 8\n",
      "elutes nr: 9, dideliu raidziu eiluteje: 7\n",
      "elutes nr: 10, dideliu raidziu eiluteje: 9\n",
      "elutes nr: 11, dideliu raidziu eiluteje: 8\n",
      "elutes nr: 12, dideliu raidziu eiluteje: 7\n",
      "elutes nr: 13, dideliu raidziu eiluteje: 8\n",
      "elutes nr: 14, dideliu raidziu eiluteje: 7\n",
      "elutes nr: 15, dideliu raidziu eiluteje: 8\n",
      "elutes nr: 16, dideliu raidziu eiluteje: 7\n",
      "elutes nr: 17, dideliu raidziu eiluteje: 9\n",
      "elutes nr: 18, dideliu raidziu eiluteje: 6\n",
      "elutes nr: 19, dideliu raidziu eiluteje: 8\n"
     ]
    }
   ],
   "source": [
    "# 1. suskaičiuoti ir atspausdinti kiek yra didžiųjų raidžių kiekvienoje eilutėje\n",
    "\n",
    "did_raidziu_sarasas = []\n",
    "\n",
    "for numeris, viena_eilute in enumerate(tekstas):\n",
    "    kiek_did_raidziu = 0\n",
    "    for raide in viena_eilute:\n",
    "        if raide.isupper():\n",
    "            kiek_did_raidziu += 1\n",
    "    did_raidziu_sarasas.append(kiek_did_raidziu)\n",
    "\n",
    "    print(f\"elutes nr: {numeris}, dideliu raidziu eiluteje: {kiek_did_raidziu}\")\n"
   ]
  },
  {
   "cell_type": "code",
   "execution_count": 129,
   "metadata": {},
   "outputs": [
    {
     "name": "stdout",
     "output_type": "stream",
     "text": [
      "Sportsman delighted improving dashwoods gay instantly happiness six. Ham now amounted absolute not mistaken way pleasant whatever. At an these still no dried folly stood thing. Rapid it on hours hills it seven years. If polite he active county in spirit an. Mrs ham intention promotion engrossed assurance defective. Confined so graceful building opinions whatever trifling in. Insisted out differed ham man endeavor expenses. At on he total their he songs. Related compact effects is on settled do.\n",
      "\n"
     ]
    }
   ],
   "source": [
    "# 1. atspausdinti eilutę, kurioje yra daugiausia žodžių\n",
    "print(tekstas[zodziu_sarasas.index(max(zodziu_sarasas))])\n",
    "\n"
   ]
  },
  {
   "cell_type": "code",
   "execution_count": 130,
   "metadata": {},
   "outputs": [
    {
     "name": "stdout",
     "output_type": "stream",
     "text": [
      "Both rest of know draw fond post as. It agreement defective to excellent. Feebly do engage of narrow. Extensive repulsive belonging depending if promotion be zealously as. Preference inquietude ask now are dispatched led appearance. Small meant in so doubt hopes. Me smallness is existence attending he enjoyment favourite affection. Delivered is to ye belonging enjoyment preferred. Astonished and acceptance men two discretion. Law education recommend did objection how old.\n",
      "\n"
     ]
    }
   ],
   "source": [
    "# 1. atspausdinti eilutę, kurioje yra daugiausia didžiųjų raidžių\n",
    "print(tekstas[did_raidziu_sarasas.index(max(did_raidziu_sarasas))])\n"
   ]
  },
  {
   "cell_type": "code",
   "execution_count": 135,
   "metadata": {},
   "outputs": [
    {
     "name": "stdout",
     "output_type": "stream",
     "text": [
      "sakiniu kiekis: 155\n"
     ]
    }
   ],
   "source": [
    "# 1. BONUS: suskaičiuoti ir atspausdinti, kiek tekste yra sakinių (sakinio techninis apibrėžimas laisvas)\n",
    "sakiniai = \"\".join(tekstas)\n",
    "kiek_sakiniu_tekste = 0\n",
    "for simbolius in sakiniai:\n",
    "    if simbolius == \".\" or simbolius == \"!\" or simbolius == \"?\":\n",
    "        kiek_sakiniu_tekste += 1\n",
    "    # did_raidziu_sarasas.append(kiek_did_raidziu)\n",
    "\n",
    "print(f\"sakiniu kiekis: {kiek_sakiniu_tekste}\")"
   ]
  }
 ],
 "metadata": {
  "kernelspec": {
   "display_name": "Python 3.10.6 64-bit",
   "language": "python",
   "name": "python3"
  },
  "language_info": {
   "codemirror_mode": {
    "name": "ipython",
    "version": 3
   },
   "file_extension": ".py",
   "mimetype": "text/x-python",
   "name": "python",
   "nbconvert_exporter": "python",
   "pygments_lexer": "ipython3",
   "version": "3.10.6"
  },
  "orig_nbformat": 4,
  "vscode": {
   "interpreter": {
    "hash": "05d0ac6c0e661dcf7870716260c4c1d46f6d6ed7db6e1bd675f8387b27b9c356"
   }
  }
 },
 "nbformat": 4,
 "nbformat_minor": 2
}
