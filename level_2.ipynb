{
 "cells": [
  {
   "cell_type": "markdown",
   "metadata": {},
   "source": [
    "# Python užduotys - vidutinis lygis"
   ]
  },
  {
   "cell_type": "markdown",
   "metadata": {},
   "source": [
    "## 1. Žaidimas šilta-šalta.\n",
    "* Programa įsimena skaičių į kintamąjį `teisingas`.\n",
    "* Programa leidžia žaidėjui spėti skaičių:\n",
    "  * iš žaidėjo skaičių gauname per `input()` funkciją.\n",
    "  * nepamirškite konvertuoti į skaičių gautos iš žaidėjo įvesties, ir patikrinti ar tai yra įmanoma padaryti.\n",
    "* Įsimenamas absoliutus `skirtumas` tarp spėjimo ir teisingo atsakymo.\n",
    "* Kaskart spėjant, lyginti ar naujas skirtumas yra mažesnis už buvusį:\n",
    "  * jei taip, spausdinti \"šilta...\"\n",
    "  * kitu atveju, spausdinti \"šalta...\"\n",
    "* Programą kartoti, kol būna atspėtas skaičius. Atspėjus, išpsausdinti sveikinimus ir teisingą atsakymą.\n",
    "* BONUS 1: teisingas skaičius parenkamas atsitiktiniu būdu, įskaitant neigiamus skaičius. Pradžiai vistiek siūlyčiau gan mažą imtį.\n",
    "* BONUS 2: skaičiuokite kiek kartų buvo spėta"
   ]
  },
  {
   "cell_type": "markdown",
   "metadata": {},
   "source": [
    "### Atsakymai\n",
    "!!! Išskleidus atsakymai matysis iš karto!"
   ]
  },
  {
   "cell_type": "code",
   "execution_count": 2,
   "metadata": {},
   "outputs": [
    {
     "name": "stdout",
     "output_type": "stream",
     "text": [
      "0 šalta...\n",
      "50 šalta...\n",
      "1000 šalta...\n",
      "-1000 šilta...\n",
      "-15000 šalta...\n",
      "-10000 šilta...\n",
      "-5000 šilta...\n",
      "-2500 šilta...\n",
      "-2000 šilta...\n",
      "-1000 šalta...\n",
      "-1500 šilta...\n",
      "-2000 šalta...\n",
      "-1800 šilta...\n",
      "-1700 šilta...\n",
      "-1600 šilta...\n",
      "-1650 šalta...\n",
      "-1660 šalta...\n",
      "-1630 šilta...\n",
      "-1640 šalta...\n",
      "-1620 šilta...\n",
      "-1610 šilta...\n",
      "-1605 šilta...\n",
      "-1604 šilta...\n",
      "-1603 šilta...\n",
      "-1601 šilta...\n",
      "-1590 šilta...\n",
      "-1570 šilta...\n",
      "-1550 šilta...\n",
      "-1520 šalta...\n",
      "-1530 šilta...\n",
      "-1540 šilta...\n",
      "-1550 šalta...\n",
      "-1535 šilta...\n",
      "-1537 šilta...\n",
      "-1539 šalta...\n",
      "!!! Atspėjai iš 35 karto. Teisingas atsakymas: -1538\n"
     ]
    }
   ],
   "source": [
    "from random import randint\n",
    "teisingas = randint(-2**15, 2**15) # 777\n",
    "spejimas = None\n",
    "skirtumas = 0\n",
    "kartai = 0\n",
    "while spejimas is None or spejimas != teisingas:\n",
    "    try:\n",
    "        spejimas = int(input(\"Spėkite skaičių: \"))\n",
    "    except ValueError:\n",
    "        print(\"įvestas ne skaičius\")\n",
    "    else:\n",
    "        if teisingas != spejimas:\n",
    "            kartai += 1\n",
    "            if abs(teisingas - spejimas) < skirtumas:\n",
    "                print(spejimas, \"šilta...\")\n",
    "            else:\n",
    "                print(spejimas, \"šalta...\")\n",
    "            skirtumas = abs(teisingas - spejimas)\n",
    "else:\n",
    "    print(f\"!!! Atspėjai iš {kartai} karto. Teisingas atsakymas: {teisingas}\")\n"
   ]
  }
 ],
 "metadata": {
  "kernelspec": {
   "display_name": "Python 3.10.6 64-bit",
   "language": "python",
   "name": "python3"
  },
  "language_info": {
   "codemirror_mode": {
    "name": "ipython",
    "version": 3
   },
   "file_extension": ".py",
   "mimetype": "text/x-python",
   "name": "python",
   "nbconvert_exporter": "python",
   "pygments_lexer": "ipython3",
   "version": "3.10.6"
  },
  "orig_nbformat": 4,
  "vscode": {
   "interpreter": {
    "hash": "05d0ac6c0e661dcf7870716260c4c1d46f6d6ed7db6e1bd675f8387b27b9c356"
   }
  }
 },
 "nbformat": 4,
 "nbformat_minor": 2
}
