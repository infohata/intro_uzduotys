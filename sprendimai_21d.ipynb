{
 "cells": [
  {
   "cell_type": "markdown",
   "metadata": {},
   "source": [
    "## 1. Tekstinio failo analizė\n",
    "1. programa nuskaito tekstinį failą\n",
    "1. programa suskaičiuoja ir atspausdina kiek yra teksto eilučių\n",
    "1. programa suskaičiuoja ir atspausdina kiek yra žodžių kiekvienoje eilutėje\n",
    "1. programa suskaičiuoja ir atspausdina kiek yra didžiųjų raidžių kiekvienoje eilutėje\n",
    "1. programa atspausdina eilutę, kurioje yra daugiausia žodžių\n",
    "1. programa atspausdina eilutę, kurioje yra daugiausia didžiųjų raidžių\n",
    "1. BONUS: programa suskaičiuoja, kiek tekste yra sakinių (sakinio techninis apibrėžimas laisvas)\n",
    "Naudingos nuorodos: [Random Text Generator](https://randomtextgenerator.com/)\n",
    "    \n",
    "    \n",
    "      Expand (11 lines)\n",
    "      Collapse"
   ]
  },
  {
   "cell_type": "code",
   "execution_count": 28,
   "metadata": {},
   "outputs": [
    {
     "name": "stdout",
     "output_type": "stream",
     "text": [
      "26\n"
     ]
    }
   ],
   "source": [
    "with open('tekstas.txt', 'r') as tekstas:\n",
    "    eilutes = tekstas.readlines()\n",
    "    count = 0\n",
    "    for eilute in eilutes:\n",
    "        count += 1\n",
    "    print(count)"
   ]
  },
  {
   "cell_type": "code",
   "execution_count": 43,
   "metadata": {},
   "outputs": [
    {
     "name": "stdout",
     "output_type": "stream",
     "text": [
      "Eiluciu sk: 26\n"
     ]
    }
   ],
   "source": [
    "with open('tekstas.txt', 'r') as tekstokas:\n",
    "    lines = tekstokas.readlines()\n",
    "\n",
    "print(f'Eiluciu sk: {len(lines)}')"
   ]
  },
  {
   "cell_type": "code",
   "execution_count": 27,
   "metadata": {},
   "outputs": [
    {
     "name": "stdout",
     "output_type": "stream",
     "text": [
      "25,28,26,16,21,31,29,25,24,13,27,25,27,1,42,27,23,22,29,22,29,28,3,21,30,1,"
     ]
    }
   ],
   "source": [
    "with open('tekstas.txt', 'r') as tekstas:\n",
    "    eilutes = tekstas.readlines()\n",
    "    for i in eilutes:\n",
    "        eilutes_split = i.split(' ')\n",
    "        #print(eilutes_split)\n",
    "        print(len(eilutes_split), end=',')\n",
    "       \n",
    "\n",
    "    # with open('tekstas.txt', 'r') as tekstas:\n",
    "    # eilutes = tekstas.readlines()\n",
    "    # for i in eilutes:\n",
    "    #     eilutes_split = i.split(' ')\n",
    "    #     for zodziai in eilutes_split:\n",
    "    #         print(zodziai)"
   ]
  },
  {
   "cell_type": "code",
   "execution_count": 94,
   "metadata": {},
   "outputs": [
    {
     "name": "stdout",
     "output_type": "stream",
     "text": [
      "0: zodziu: 25, didziuju raidziu 4\n",
      "1: zodziu: 28, didziuju raidziu 4\n",
      "2: zodziu: 26, didziuju raidziu 3\n",
      "3: zodziu: 16, didziuju raidziu 2\n",
      "4: zodziu: 21, didziuju raidziu 3\n",
      "5: zodziu: 30, didziuju raidziu 3\n",
      "6: zodziu: 28, didziuju raidziu 4\n",
      "7: zodziu: 25, didziuju raidziu 3\n",
      "8: zodziu: 23, didziuju raidziu 4\n",
      "9: zodziu: 12, didziuju raidziu 1\n",
      "10: zodziu: 27, didziuju raidziu 4\n",
      "11: zodziu: 25, didziuju raidziu 3\n",
      "12: zodziu: 27, didziuju raidziu 3\n",
      "13: zodziu: 1, didziuju raidziu 0\n",
      "14: zodziu: 41, didziuju raidziu 6\n",
      "15: zodziu: 27, didziuju raidziu 4\n",
      "16: zodziu: 23, didziuju raidziu 3\n",
      "17: zodziu: 22, didziuju raidziu 2\n",
      "18: zodziu: 29, didziuju raidziu 4\n",
      "19: zodziu: 22, didziuju raidziu 3\n",
      "20: zodziu: 29, didziuju raidziu 4\n",
      "21: zodziu: 28, didziuju raidziu 3\n",
      "22: zodziu: 3, didziuju raidziu 0\n",
      "23: zodziu: 21, didziuju raidziu 3\n",
      "24: zodziu: 30, didziuju raidziu 3\n",
      "25: zodziu: 0, didziuju raidziu 0\n"
     ]
    }
   ],
   "source": [
    "zodziu_eilutese = []\n",
    "didz_raidziu = []\n",
    "\n",
    "for number, line in enumerate(lines):\n",
    "    # zodziai\n",
    "    zodziu_kiekis = len(line.split())\n",
    "    zodziu_eilutese.append(zodziu_kiekis)\n",
    "    #print(zodziu_kiekis, end=',')\n",
    "    count = 0\n",
    "    for letter in line:\n",
    "        if letter.isupper():\n",
    "            count += 1\n",
    "    didz_raidziu.append(count)\n",
    "    print(f'{number}: zodziu: {zodziu_kiekis}, didziuju raidziu {count}')\n",
    "\n",
    "# print(zodziu_eilutese)\n",
    "# print(didz_raidziu)\n"
   ]
  },
  {
   "cell_type": "code",
   "execution_count": null,
   "metadata": {},
   "outputs": [],
   "source": []
  },
  {
   "cell_type": "code",
   "execution_count": 81,
   "metadata": {},
   "outputs": [
    {
     "name": "stdout",
     "output_type": "stream",
     "text": [
      "4,4,3,2,3,3,4,3,4,1,4,3,3,0,6,4,3,2,4,3,4,3,0,3,3,0,"
     ]
    }
   ],
   "source": [
    "with open('tekstas.txt', 'r') as tekstas:\n",
    "    eilutes = tekstas.readlines()\n",
    "    for i in eilutes:\n",
    "        eilutes_split = i.strip()\n",
    "        count = 0\n",
    "        for a in eilutes_split:\n",
    "            if a.isupper():\n",
    "                count += 1\n",
    "        print(count, end=',')\n",
    " \n",
    "  \n",
    "\n"
   ]
  },
  {
   "cell_type": "code",
   "execution_count": 25,
   "metadata": {},
   "outputs": [
    {
     "name": "stdout",
     "output_type": "stream",
     "text": [
      "42\n"
     ]
    }
   ],
   "source": [
    "# Kiek max simboliu yra eiluteje?\n",
    "\n",
    "with open('tekstas.txt', 'r') as tekstas:\n",
    "    eilutes = tekstas.readlines()\n",
    "    listas = []\n",
    "    for i in eilutes:\n",
    "        eilutes_split = i.split(' ')\n",
    "        #print(eilutes_split)\n",
    "        a = len(eilutes_split)\n",
    "        listas.append(a)\n",
    "    print(max(listas))\n",
    "            "
   ]
  },
  {
   "cell_type": "code",
   "execution_count": 82,
   "metadata": {},
   "outputs": [
    {
     "name": "stdout",
     "output_type": "stream",
     "text": [
      "0: zodziu: 25, max zodziu 25\n",
      "1: zodziu: 28, max zodziu 28\n",
      "2: zodziu: 26, max zodziu 28\n",
      "3: zodziu: 16, max zodziu 28\n",
      "4: zodziu: 21, max zodziu 28\n",
      "5: zodziu: 30, max zodziu 30\n",
      "6: zodziu: 28, max zodziu 30\n",
      "7: zodziu: 25, max zodziu 30\n",
      "8: zodziu: 23, max zodziu 30\n",
      "9: zodziu: 12, max zodziu 30\n",
      "10: zodziu: 27, max zodziu 30\n",
      "11: zodziu: 25, max zodziu 30\n",
      "12: zodziu: 27, max zodziu 30\n",
      "13: zodziu: 1, max zodziu 30\n",
      "14: zodziu: 41, max zodziu 41\n",
      "15: zodziu: 27, max zodziu 41\n",
      "16: zodziu: 23, max zodziu 41\n",
      "17: zodziu: 22, max zodziu 41\n",
      "18: zodziu: 29, max zodziu 41\n",
      "19: zodziu: 22, max zodziu 41\n",
      "20: zodziu: 29, max zodziu 41\n",
      "21: zodziu: 28, max zodziu 41\n",
      "22: zodziu: 3, max zodziu 41\n",
      "23: zodziu: 21, max zodziu 41\n",
      "24: zodziu: 30, max zodziu 41\n",
      "25: zodziu: 0, max zodziu 41\n"
     ]
    }
   ],
   "source": [
    "maximum = 0\n",
    "for number, line in enumerate(lines):\n",
    "    # zodziai\n",
    "    zodziu_kiekis = len(line.split())\n",
    "    zodziu_eilutese.append(zodziu_kiekis)\n",
    "    #print(zodziu_kiekis, end=',')\n",
    "    if zodziu_kiekis > maximum:\n",
    "        maximum = zodziu_kiekis\n",
    "    print(f'{number}: zodziu: {zodziu_kiekis}, max zodziu {maximum}')\n",
    "   \n",
    "\n",
    "# maximum = 0\n",
    "# for sk in skaiciai:\n",
    "#     if sk > maximum:\n",
    "#         maximum = sk\n",
    "#     print(sk, maximum)\n",
    "\n",
    "   "
   ]
  },
  {
   "cell_type": "code",
   "execution_count": 92,
   "metadata": {},
   "outputs": [
    {
     "name": "stdout",
     "output_type": "stream",
     "text": [
      "[25, 28, 26, 16, 21, 30, 28, 25, 23, 12, 27, 25, 27, 1, 41, 27, 23, 22, 29, 22, 29, 28, 3, 21, 30, 0]\n",
      "[4, 4, 3, 2, 3, 3, 4, 3, 4, 1, 4, 3, 3, 0, 6, 4, 3, 2, 4, 3, 4, 3, 0, 3, 3, 0]\n",
      "In entirely be to at settling felicity. Fruit two match men you seven share. Needed as or is enough points. Miles at smart ﻿no marry whole linen mr. Income joy nor  wisdom summer. Extremely depending he gentleman improving intention rapturous as.\n",
      "\n",
      "In entirely be to at settling felicity. Fruit two match men you seven share. Needed as or is enough points. Miles at smart ﻿no marry whole linen mr. Income joy nor  wisdom summer. Extremely depending he gentleman improving intention rapturous as.\n",
      "\n",
      "In entirely be to at settling felicity. Fruit two match men you seven share. Needed as or is enough points. Miles at smart ﻿no marry whole linen mr. Income joy nor  wisdom summer. Extremely depending he gentleman improving intention rapturous as.\n",
      "\n",
      "[14]\n"
     ]
    }
   ],
   "source": [
    "# print(zodziu_eilutese)\n",
    "# print(didz_raidziu)\n",
    "print(lines[zodziu_eilutese.index(max(zodziu_eilutese))])\n",
    "print(lines[zodziu_eilutese.index(41)])\n",
    "# taspats kaip:\n",
    "print(lines[14])\n",
    "# indexas\n",
    "print([zodziu_eilutese.index(41)])\n"
   ]
  },
  {
   "cell_type": "code",
   "execution_count": 96,
   "metadata": {},
   "outputs": [
    {
     "name": "stdout",
     "output_type": "stream",
     "text": [
      "In entirely be to at settling felicity. Fruit two match men you seven share. Needed as or is enough points. Miles at smart ﻿no marry whole linen mr. Income joy nor  wisdom summer. Extremely depending he gentleman improving intention rapturous as.\n",
      "\n"
     ]
    }
   ],
   "source": [
    "print(lines[didz_raidziu.index(max(didz_raidziu))])"
   ]
  },
  {
   "cell_type": "code",
   "execution_count": 135,
   "metadata": {},
   "outputs": [
    {
     "name": "stdout",
     "output_type": "stream",
     "text": [
      "Sakiniu yra 74\n"
     ]
    }
   ],
   "source": [
    "## Kiek sakiniu yra teskte:\n",
    "\n",
    "with open('tekstas.txt', 'r') as tekstas:\n",
    "    eilutes = tekstas.readlines()\n",
    "    a = 0\n",
    "    for i in eilutes:\n",
    "        eilutes_split = i.split()\n",
    "        # print(eilutes_split)\n",
    "        for aa in eilutes_split:\n",
    "            if aa.endswith('.') or aa.endswith('!') or aa.endswith('?') :\n",
    "                a += 1\n",
    "    print('Sakiniu yra', a)\n",
    "       \n",
    "\n"
   ]
  },
  {
   "cell_type": "code",
   "execution_count": 139,
   "metadata": {},
   "outputs": [
    {
     "name": "stdout",
     "output_type": "stream",
     "text": [
      "Sakiniu: 74\n"
     ]
    }
   ],
   "source": [
    "text = ''.join(lines)\n",
    "\n",
    "sakiniai = 0\n",
    "for char in text:\n",
    "    if char == '.' or char == '!' or char == '?':\n",
    "        sakiniai += 1\n",
    "print(f\"Sakiniu: {sakiniai}\") "
   ]
  },
  {
   "cell_type": "markdown",
   "metadata": {},
   "source": [
    "2. Spausdinti pirminiu skaiciu progresija iki 2**16"
   ]
  },
  {
   "cell_type": "code",
   "execution_count": 180,
   "metadata": {},
   "outputs": [
    {
     "name": "stdout",
     "output_type": "stream",
     "text": [
      "[2, 3]\n"
     ]
    }
   ],
   "source": [
    "primes = [2,3]\n",
    "\n",
    "for n in range(4, 2**16):\n",
    "    for primal in primes:\n",
    "        if n % primal == 0:\n",
    "            break\n",
    "    else:\n",
    "        primes.append(n)\n",
    "\n",
    "print(len(primes))"
   ]
  },
  {
   "cell_type": "code",
   "execution_count": 147,
   "metadata": {},
   "outputs": [
    {
     "name": "stdout",
     "output_type": "stream",
     "text": [
      "3\n",
      "6\n",
      "4\n"
     ]
    }
   ],
   "source": [
    "sarasas = [5, 7, 12, 6, 4, 7, 11]\n",
    "print(sarasas.index(6))\n",
    "print(sarasas[(sarasas.index(6))])\n",
    "print(sarasas[sarasas.index(min(sarasas))])"
   ]
  }
 ],
 "metadata": {
  "interpreter": {
   "hash": "a1d1e3d6ce61516c742239580f0a04a0f730cb0826cec4059940407641d4a825"
  },
  "kernelspec": {
   "display_name": "Python 3.8.10 ('venv': venv)",
   "language": "python",
   "name": "python3"
  },
  "language_info": {
   "codemirror_mode": {
    "name": "ipython",
    "version": 3
   },
   "file_extension": ".py",
   "mimetype": "text/x-python",
   "name": "python",
   "nbconvert_exporter": "python",
   "pygments_lexer": "ipython3",
   "version": "3.8.10"
  },
  "orig_nbformat": 4
 },
 "nbformat": 4,
 "nbformat_minor": 2
}
